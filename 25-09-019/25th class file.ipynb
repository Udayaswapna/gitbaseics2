{
 "cells": [
  {
   "cell_type": "markdown",
   "metadata": {},
   "source": [
    "## function to generate all the prime numbers in a given numbers"
   ]
  },
  {
   "cell_type": "code",
   "execution_count": 8,
   "metadata": {},
   "outputs": [
    {
     "name": "stdout",
     "output_type": "stream",
     "text": [
      "20\n",
      "30\n",
      "23 29 "
     ]
    }
   ],
   "source": [
    "def prime(lb):\n",
    "    count=0\n",
    "    for i in range(1,lb+1):\n",
    "        if lb%i==0:\n",
    "            count=count+1\n",
    "    if count==2:\n",
    "        print(i,end=\" \")\n",
    "lb=int(input())\n",
    "ub=int(input())\n",
    "for j in range(lb,ub+1):\n",
    "    prime(j)\n",
    "            "
   ]
  },
  {
   "cell_type": "code",
   "execution_count": 10,
   "metadata": {},
   "outputs": [
    {
     "name": "stdout",
     "output_type": "stream",
     "text": [
      "20\n",
      "30\n",
      "23 29 "
     ]
    }
   ],
   "source": [
    "# or returning value\n",
    "def prime(lb):\n",
    "    count=0\n",
    "    for i in range(1,lb+1):\n",
    "        if lb%i==0:\n",
    "            count=count+1\n",
    "    if count==2:\n",
    "        return 1\n",
    "    else:\n",
    "        return 0\n",
    "lb=int(input())\n",
    "ub=int(input())\n",
    "for j in range(lb,ub+1):\n",
    "    if prime(j)==1:\n",
    "        print(j,end=\" \")\n",
    "            "
   ]
  },
  {
   "cell_type": "markdown",
   "metadata": {},
   "source": [
    "## 8.sum of digits in a given number\n"
   ]
  },
  {
   "cell_type": "code",
   "execution_count": 5,
   "metadata": {},
   "outputs": [
    {
     "name": "stdout",
     "output_type": "stream",
     "text": [
      "Enter a number:2\n",
      "The total sum of digits is: 2\n"
     ]
    }
   ],
   "source": [
    "n=int(input(\"Enter a number:\"))\n",
    "tot=0\n",
    "while(n>0):\n",
    "    dig=n%10\n",
    "    tot=tot+dig\n",
    "    n=n//10\n",
    "print(\"The total sum of digits is:\",tot)"
   ]
  },
  {
   "cell_type": "markdown",
   "metadata": {},
   "source": [
    "## 9.program to check whether the given number is armstrong or not"
   ]
  },
  {
   "cell_type": "code",
   "execution_count": 14,
   "metadata": {},
   "outputs": [
    {
     "ename": "IndentationError",
     "evalue": "unexpected indent (<ipython-input-14-ec93b60c3943>, line 4)",
     "output_type": "error",
     "traceback": [
      "\u001b[1;36m  File \u001b[1;32m\"<ipython-input-14-ec93b60c3943>\"\u001b[1;36m, line \u001b[1;32m4\u001b[0m\n\u001b[1;33m    while(temp!=0):\u001b[0m\n\u001b[1;37m    ^\u001b[0m\n\u001b[1;31mIndentationError\u001b[0m\u001b[1;31m:\u001b[0m unexpected indent\n"
     ]
    }
   ],
   "source": [
    "def armstrong(h):\n",
    "    sum=0\n",
    "    y= h\n",
    "        while(h!=0):\n",
    "           digit =h%10\n",
    "           sum += sum+** 3\n",
    "           h//= 10\n",
    "if y== sum:\n",
    "   print(num,\"is an Armstrong number\")\n",
    "else:\n",
    "   print(num,\"is not an Armstrong number\")\n",
    "temp= int(input(\"Enter a number: \"))\n",
    "armstrong(temp)"
   ]
  },
  {
   "cell_type": "markdown",
   "metadata": {},
   "source": [
    "## 12.program to print the all the even no in rangge inclusive"
   ]
  },
  {
   "cell_type": "code",
   "execution_count": null,
   "metadata": {},
   "outputs": [],
   "source": []
  },
  {
   "cell_type": "code",
   "execution_count": null,
   "metadata": {},
   "outputs": [],
   "source": []
  }
 ],
 "metadata": {
  "kernelspec": {
   "display_name": "Python 3",
   "language": "python",
   "name": "python3"
  },
  "language_info": {
   "codemirror_mode": {
    "name": "ipython",
    "version": 3
   },
   "file_extension": ".py",
   "mimetype": "text/x-python",
   "name": "python",
   "nbconvert_exporter": "python",
   "pygments_lexer": "ipython3",
   "version": "3.7.3"
  }
 },
 "nbformat": 4,
 "nbformat_minor": 2
}
