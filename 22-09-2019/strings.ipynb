{
 "cells": [
  {
   "cell_type": "markdown",
   "metadata": {},
   "source": [
    "# strings"
   ]
  },
  {
   "cell_type": "code",
   "execution_count": 5,
   "metadata": {},
   "outputs": [
    {
     "name": "stdout",
     "output_type": "stream",
     "text": [
      "hello world\n",
      "hello \n",
      " world\n",
      "i dont't\n",
      "first \n",
      "second\n",
      "third\n",
      "hello world\n",
      " second\t third\n"
     ]
    }
   ],
   "source": [
    "print(\"hello world\")\n",
    "print(\"hello \\n world\")\n",
    "print('i dont\\'t')\n",
    "print(\"\"\"first \n",
    "second\n",
    "third\"\"\")\n",
    "print(\"hello world\\n second\\t third\")\n"
   ]
  },
  {
   "cell_type": "code",
   "execution_count": 6,
   "metadata": {},
   "outputs": [
    {
     "name": "stdout",
     "output_type": "stream",
     "text": [
      "sum of a and b is 30\n"
     ]
    }
   ],
   "source": [
    "a=10\n",
    "b=20\n",
    "print(\"sum of a and b is\" , int (a+b))"
   ]
  },
  {
   "cell_type": "code",
   "execution_count": 9,
   "metadata": {},
   "outputs": [
    {
     "name": "stdout",
     "output_type": "stream",
     "text": [
      "sum of 10 and 20 is 30\n"
     ]
    }
   ],
   "source": [
    "a=10\n",
    "b=20\n",
    "print(\"sum of {0} and {1} is {2}\" .format(a,b,a+b))"
   ]
  },
  {
   "cell_type": "markdown",
   "metadata": {},
   "source": [
    "## string slicing"
   ]
  },
  {
   "cell_type": "code",
   "execution_count": 12,
   "metadata": {},
   "outputs": [
    {
     "name": "stdout",
     "output_type": "stream",
     "text": [
      "u,d,a\n"
     ]
    }
   ],
   "source": [
    "a=\"udaya\"\n",
    "print(a[0],a[1],a[2],sep=\",\")"
   ]
  },
  {
   "cell_type": "code",
   "execution_count": 14,
   "metadata": {},
   "outputs": [
    {
     "name": "stdout",
     "output_type": "stream",
     "text": [
      "u\n",
      "d\n",
      "a\n"
     ]
    }
   ],
   "source": [
    "a=\"udaya\"\n",
    "print(a[0])\n",
    "print(a[1])\n",
    "print(a[2])"
   ]
  },
  {
   "cell_type": "code",
   "execution_count": 15,
   "metadata": {},
   "outputs": [
    {
     "name": "stdout",
     "output_type": "stream",
     "text": [
      "u d\ta\n"
     ]
    }
   ],
   "source": [
    "a=\"udaya\"\n",
    "print(a[0],end=\" \")\n",
    "print(a[1],end=\"\\t\")\n",
    "print(a[2])"
   ]
  },
  {
   "cell_type": "code",
   "execution_count": 18,
   "metadata": {},
   "outputs": [
    {
     "name": "stdout",
     "output_type": "stream",
     "text": [
      "uda\n"
     ]
    }
   ],
   "source": [
    "a=\"udaya\"\n",
    "print(a[0],end=\"\")\n",
    "print(a[1],end=\"\")\n",
    "print(a[2])"
   ]
  },
  {
   "cell_type": "code",
   "execution_count": 23,
   "metadata": {},
   "outputs": [
    {
     "name": "stdout",
     "output_type": "stream",
     "text": [
      "uda\n",
      "uda\n"
     ]
    }
   ],
   "source": [
    "#a=[start:end:step]\n",
    "print(a[0:3])\n",
    "print(a[:3])"
   ]
  },
  {
   "cell_type": "code",
   "execution_count": 27,
   "metadata": {},
   "outputs": [
    {
     "name": "stdout",
     "output_type": "stream",
     "text": [
      "udaya\n"
     ]
    }
   ],
   "source": [
    "print(a[0:])"
   ]
  },
  {
   "cell_type": "code",
   "execution_count": 29,
   "metadata": {},
   "outputs": [
    {
     "name": "stdout",
     "output_type": "stream",
     "text": [
      "engineering\n",
      "engineering\n"
     ]
    }
   ],
   "source": [
    "s=\"engineering\"\n",
    "print(s[0:])\n",
    "print(s[0::])"
   ]
  },
  {
   "cell_type": "code",
   "execution_count": 33,
   "metadata": {},
   "outputs": [
    {
     "name": "stdout",
     "output_type": "stream",
     "text": [
      "engineering\n",
      "11\n"
     ]
    }
   ],
   "source": [
    "s=\"engineering\"\n",
    "\n",
    "print(s[0:len(s)])\n",
    "print(len(s))"
   ]
  },
  {
   "cell_type": "code",
   "execution_count": 35,
   "metadata": {},
   "outputs": [
    {
     "name": "stdout",
     "output_type": "stream",
     "text": [
      "n\n"
     ]
    }
   ],
   "source": [
    "s=\"engineering\"\n",
    "print(s[-2])"
   ]
  },
  {
   "cell_type": "code",
   "execution_count": 48,
   "metadata": {},
   "outputs": [
    {
     "name": "stdout",
     "output_type": "stream",
     "text": [
      "gnireenigne\n",
      "gnireenigne\n",
      "gnireenigne\n"
     ]
    }
   ],
   "source": [
    "##to reverse the string\n",
    "print(s[-1::-1])\n",
    "print(s[len(s)::-1])\n",
    "print(s[::-1]) #a[-1]"
   ]
  },
  {
   "cell_type": "code",
   "execution_count": 50,
   "metadata": {},
   "outputs": [
    {
     "name": "stdout",
     "output_type": "stream",
     "text": [
      "agl\n",
      "sen\n"
     ]
    }
   ],
   "source": [
    "a=\"angels\" # to print the alternative char of astring\n",
    "print(a[0::2])\n",
    "#a[0]--a\n",
    "#a[0+2]--a[2]--g\n",
    "#a[2+2]--a[4]--l\n",
    "print(a[::-2])# to print aalter char in the reverse"
   ]
  },
  {
   "cell_type": "code",
   "execution_count": 51,
   "metadata": {},
   "outputs": [
    {
     "name": "stdout",
     "output_type": "stream",
     "text": [
      "els\n"
     ]
    }
   ],
   "source": [
    "print(a[-3::])"
   ]
  },
  {
   "cell_type": "code",
   "execution_count": 54,
   "metadata": {},
   "outputs": [
    {
     "name": "stdout",
     "output_type": "stream",
     "text": [
      "sg\n"
     ]
    }
   ],
   "source": [
    "print(a[::-3])"
   ]
  },
  {
   "cell_type": "code",
   "execution_count": 56,
   "metadata": {},
   "outputs": [
    {
     "name": "stdout",
     "output_type": "stream",
     "text": [
      "e\n"
     ]
    }
   ],
   "source": [
    "print(a[3::6])"
   ]
  },
  {
   "cell_type": "code",
   "execution_count": 88,
   "metadata": {},
   "outputs": [
    {
     "name": "stdout",
     "output_type": "stream",
     "text": [
      "10\n",
      "na\n"
     ]
    }
   ],
   "source": [
    "s=\"kvswangels\"\n",
    "print(len(s))\n",
    "print(s[len(s)//2:(len(s)//2)-2:-1])"
   ]
  },
  {
   "cell_type": "markdown",
   "metadata": {},
   "source": [
    "s=\"udayaswapna\n",
    "print(a.lower())"
   ]
  },
  {
   "cell_type": "code",
   "execution_count": 92,
   "metadata": {},
   "outputs": [
    {
     "name": "stdout",
     "output_type": "stream",
     "text": [
      "udayaswapna\n"
     ]
    }
   ],
   "source": [
    "s=\"udayaswapna\"\n",
    "print(s.lower())"
   ]
  },
  {
   "cell_type": "code",
   "execution_count": 93,
   "metadata": {},
   "outputs": [
    {
     "name": "stdout",
     "output_type": "stream",
     "text": [
      "UDAYASWAPNA\n"
     ]
    }
   ],
   "source": [
    "s=\"udayaswapna\"\n",
    "print(s.upper())"
   ]
  },
  {
   "cell_type": "code",
   "execution_count": 94,
   "metadata": {},
   "outputs": [
    {
     "name": "stdout",
     "output_type": "stream",
     "text": [
      "UDAYASWAPNA\n"
     ]
    }
   ],
   "source": [
    "s=\"udayaswapna\"\n",
    "print(s.swapcase())"
   ]
  },
  {
   "cell_type": "code",
   "execution_count": null,
   "metadata": {},
   "outputs": [],
   "source": []
  }
 ],
 "metadata": {
  "kernelspec": {
   "display_name": "Python 3",
   "language": "python",
   "name": "python3"
  },
  "language_info": {
   "codemirror_mode": {
    "name": "ipython",
    "version": 3
   },
   "file_extension": ".py",
   "mimetype": "text/x-python",
   "name": "python",
   "nbconvert_exporter": "python",
   "pygments_lexer": "ipython3",
   "version": "3.7.3"
  }
 },
 "nbformat": 4,
 "nbformat_minor": 2
}
